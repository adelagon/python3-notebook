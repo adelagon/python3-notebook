{
 "cells": [
  {
   "cell_type": "markdown",
   "metadata": {},
   "source": [
    "# Introduction to Python\n",
    "\n",
    "## Comments\n",
    "\n",
    "Comments are line of codes that the python interpreter will not execute. This is useful mostly for documenting pieces of code or debugging.\n",
    "\n",
    "### Single line comments"
   ]
  },
  {
   "cell_type": "code",
   "execution_count": null,
   "metadata": {
    "scrolled": true
   },
   "outputs": [],
   "source": [
    "a = 1\n",
    "b = 2\n",
    "# c = a + b"
   ]
  },
  {
   "cell_type": "markdown",
   "metadata": {},
   "source": [
    "### Multi line comments"
   ]
  },
  {
   "cell_type": "code",
   "execution_count": null,
   "metadata": {
    "scrolled": true
   },
   "outputs": [],
   "source": [
    "\"\"\"\n",
    "Author: Alvin Delagon\n",
    "Copyright: 2018\n",
    "Description: This is a sample multi-line comment in python\n",
    "\"\"\"\n",
    "a = 1\n",
    "b = 2\n",
    "c = a + b"
   ]
  },
  {
   "cell_type": "markdown",
   "metadata": {},
   "source": [
    "## Indentation & Scoping\n",
    "\n",
    "In python scoping is done by aligning lines of code using **spaces** or **tabs**. Usage of spaces or tabs "
   ]
  },
  {
   "cell_type": "code",
   "execution_count": null,
   "metadata": {
    "code_folding": [],
    "scrolled": true
   },
   "outputs": [],
   "source": [
    "def printHello(name):\n",
    "    print (\"Hello,\", name) # this line of code is scoped within the printHello function\n",
    "    for i in range(5):\n",
    "        print (i) # this line of code is scoped within the for loop\n",
    "    \n",
    "printHello(\"Juan\") # this line of code is scoped on the main"
   ]
  },
  {
   "cell_type": "markdown",
   "metadata": {},
   "source": [
    "**[IMPORTANT NOTE]** Usage of space vs tabs has been a long debate amongst developers. It is important to settle on the standard on the team level specially that indentation has code behavior repurcussions in python. For this training, we will be recommending the we follow the PEP8 standard of **Four (4)** spaces. For enforce this, make sure that your editors to be configured to generate 4 spaces whenever the tab button is pressed."
   ]
  },
  {
   "cell_type": "markdown",
   "metadata": {},
   "source": [
    "## Primitive Data Types\n",
    "\n",
    "### Integers\n",
    "\n",
    "Integers are whole numbers. In Python 3, there is no limit how large an integer can be. It is only limited to the amount of system memory."
   ]
  },
  {
   "cell_type": "code",
   "execution_count": null,
   "metadata": {
    "scrolled": true
   },
   "outputs": [],
   "source": [
    "a = 12345678901234567890\n",
    "print(a)\n",
    "type(a)"
   ]
  },
  {
   "cell_type": "markdown",
   "metadata": {},
   "source": [
    "### Float\n",
    "\n",
    "The float type is a number designated with a decimal point. Maximum value for float is 1.8 ⨉ 10308 anything beyond this value will result into python assigning an **inf** value which will be treated as the greater to any kind of number. The closest non-zero number is 5e-324. Anything beyond these values, python will assign **0.0**. "
   ]
  },
  {
   "cell_type": "code",
   "execution_count": null,
   "metadata": {
    "scrolled": true
   },
   "outputs": [],
   "source": [
    "a = 2.5\n",
    "print(a)\n",
    "type(a)\n",
    "\n",
    "max = 1.79e308\n",
    "print(max)\n",
    "print(max + max)\n",
    "\n",
    "nonzero = 5e-324\n",
    "print(nonzero)\n",
    "print(nonzero-nonzero)"
   ]
  },
  {
   "cell_type": "markdown",
   "metadata": {},
   "source": [
    "### Boolean\n",
    "\n",
    "Boolean represent truth values. There's only possible values **True** or **False**"
   ]
  },
  {
   "cell_type": "code",
   "execution_count": null,
   "metadata": {},
   "outputs": [],
   "source": [
    "print(type(True))\n",
    "print(type(False))"
   ]
  },
  {
   "cell_type": "markdown",
   "metadata": {},
   "source": [
    "### String\n",
    "\n",
    "Strings are just a sequence of characters in python and are delimited by single or double quotes. The maximum size for string depends on the platform and system memory."
   ]
  },
  {
   "cell_type": "code",
   "execution_count": null,
   "metadata": {
    "scrolled": true
   },
   "outputs": [],
   "source": [
    "a = \"foobar\"\n",
    "b = 'foobar'\n",
    "c = '''\n",
    "multi-line\n",
    "string\n",
    "'''\n",
    "\n",
    "print(a)\n",
    "print(b)\n",
    "print(c)\n",
    "type(c)"
   ]
  },
  {
   "cell_type": "markdown",
   "metadata": {},
   "source": [
    "#### String Operations\n",
    "\n",
    "Strings in python have many interesting built-in methods. Here are some examples:\n",
    "\n",
    "##### Length\n",
    "\n",
    "Getting the length of the string can be done by a built-in function **len**."
   ]
  },
  {
   "cell_type": "code",
   "execution_count": null,
   "metadata": {},
   "outputs": [],
   "source": [
    "len(\"foobar\")"
   ]
  },
  {
   "cell_type": "markdown",
   "metadata": {},
   "source": [
    "##### Concatenation\n",
    "\n",
    "Combining strings can be done by using the **+** operator"
   ]
  },
  {
   "cell_type": "code",
   "execution_count": null,
   "metadata": {},
   "outputs": [],
   "source": [
    "a = \"foo\" + \"bar\"\n",
    "print(a)\n",
    "\n",
    "a = \"foo\" + str(123) # Cast integer '123' to string to allow concatenation\n",
    "print(a)\n",
    "\n",
    "a = \"foo\" + 1.0 # This should fail "
   ]
  },
  {
   "cell_type": "markdown",
   "metadata": {},
   "source": [
    "Another way of combining strings which is stored in a **list** is by using the built-in string function **join**"
   ]
  },
  {
   "cell_type": "code",
   "execution_count": null,
   "metadata": {},
   "outputs": [],
   "source": [
    "a = [\"The\", \"quick\", \"brown\", \"fox\", \"jumps\", \"over\", \"the\", \"lazy\", \"dog\"]\n",
    "print(\" \".join(a))\n",
    "print(\"_\".join(a))"
   ]
  },
  {
   "cell_type": "markdown",
   "metadata": {},
   "source": [
    "##### Formatting\n",
    "\n",
    "On cases you need to format strings in python 3, you may use the **{}** along with the built-in string function **format**."
   ]
  },
  {
   "cell_type": "code",
   "execution_count": null,
   "metadata": {},
   "outputs": [],
   "source": [
    "a = \"Hello, my name is {} {} and I'm {} years old\"\n",
    "print (a.format(\"Juan\", \"Stockton\", 27))"
   ]
  },
  {
   "cell_type": "markdown",
   "metadata": {},
   "source": [
    "Take note that **format** will attempt to cast the provided values to string automatically."
   ]
  },
  {
   "cell_type": "markdown",
   "metadata": {},
   "source": [
    "##### Splitting Strings\n",
    "\n",
    "The string object built-in function **split** can be used to split a string provided a specific character. The function returns an array of strings."
   ]
  },
  {
   "cell_type": "code",
   "execution_count": null,
   "metadata": {},
   "outputs": [],
   "source": [
    "\"The quick brown fox jumps over the lazy dog\".split(\" \")"
   ]
  },
  {
   "cell_type": "code",
   "execution_count": null,
   "metadata": {},
   "outputs": [],
   "source": [
    "string = \"  Lorem ipsum dolor sit amet.  \"\n",
    "print(string.strip()) # Strip whitespaces on the beginning and end of string\n",
    "print(string.upper()) # Convert string to uppercase\n",
    "print(string[0:5]) # Slice the first 5 characters of a string\n",
    "\n",
    "# You may also chain methods at will\n",
    "print(string.strip().upper()[0:5])\n"
   ]
  },
  {
   "cell_type": "markdown",
   "metadata": {},
   "source": [
    "##### Regular Expressions\n",
    "\n",
    "Most of the time, you'll be asked to do a piece of code that should look for specific patterns in given string. Luckily, python already has a built-in library just for that called **re** (https://docs.python.org/3/library/re.html). We will be tackling how to use **findall**, **match**, and **search** which pretty much covers the common use cases.\n",
    "\n",
    "Say for example, you need to get all strings in a given paragraph that could be a proper credit card number and email. Which has these following attributes\n",
    "\n",
    "* Credit card numbers Should only contain numeric characters\n",
    "* Credit card numbers Should only have a length of 16 characters\n",
    "* Emails are in this format: name@domain.com\n",
    "\n",
    "In this case, we can use the **findall** function."
   ]
  },
  {
   "cell_type": "code",
   "execution_count": null,
   "metadata": {},
   "outputs": [],
   "source": [
    "import re\n",
    "\n",
    "paragraph = \"\"\"\n",
    "username: alvinator\n",
    "firstname: Alvin\n",
    "lastname: Delagon\n",
    "PAN1: 1234567812345678\n",
    "PAN2: 4147123456789019\n",
    "Mobile: 09191234567\n",
    "Backup Mobile: 09171234567\n",
    "Email: me@adelagon.com\n",
    "\"\"\"\n",
    "\n",
    "# find all possible card numbers\n",
    "msisdns = re.findall(r'[0-9]{16}', paragraph, re.I)\n",
    "# find all emails\n",
    "emails = re.findall(r'([a-zA-Z0-9.+-]+@[a-zA-Z0-9.-]+.[a-zA-Z0-9._-]+)', paragraph, re.I)\n",
    "\n",
    "print (msisdns, emails)\n"
   ]
  },
  {
   "cell_type": "markdown",
   "metadata": {},
   "source": [
    "The Card Number match returns any substrings that matches the regular expression. The regular expression above has three parts:\n",
    "\n",
    "**[0-9]** pertains to the range of characters that match should find. In this case it matches only strings from numbers 0 to 9.\n",
    "\n",
    "**{16}** pertains to the length of consecutive matched characters. In this case it will find consecutive strings of numbers 0 to 9 that has a length of 16.\n",
    "\n",
    "**re.I** is an optional flag that pertains to case insensitive search. \n",
    "\n",
    "The subject about regular expressions is quite huge and is beyond the scope of this training. For more details make sure you take some time to visit the Regular Expression docs: https://docs.python.org/3/library/re.html"
   ]
  },
  {
   "cell_type": "markdown",
   "metadata": {},
   "source": [
    "##### More methods\n",
    "\n",
    "**[PRO TIP]** One way for exploring the available attributes and functions of object in python such as string, you may do so by **dir()** function or looking at the python documentation https://docs.python.org/3/."
   ]
  },
  {
   "cell_type": "code",
   "execution_count": null,
   "metadata": {
    "scrolled": false
   },
   "outputs": [],
   "source": [
    "dir(\"foo\")"
   ]
  },
  {
   "cell_type": "markdown",
   "metadata": {},
   "source": [
    "In case you are using an IDE like vscode, as long as you have the Python extension installed and enabled. Pressing **dot (.)** or typing any keywords triggers the intellisense which give you a quick view of the object attributes and built-in methods:\n",
    "\n",
    "![Intellisense](../images/intellisense.png)\n",
    "\n",
    "Here's some examples of string method usage:"
   ]
  },
  {
   "cell_type": "markdown",
   "metadata": {},
   "source": [
    "## Variables\n",
    "\n",
    "Declaring variables in python is done in only one way, by using an equal sign (variable = value):"
   ]
  },
  {
   "cell_type": "code",
   "execution_count": null,
   "metadata": {},
   "outputs": [],
   "source": [
    "# Single Assignment\n",
    "a = 1 # assign integer value 1 to variable 'a'\n",
    "\n",
    "# Multiple Assignments\n",
    "x = y = z = 0 \n",
    "fname, lname, age = \"Juan\", \"Stockton\", 27\n",
    "\n",
    "print (a)\n",
    "print (x, y, z)\n",
    "print (fname, lname, age)"
   ]
  },
  {
   "cell_type": "markdown",
   "metadata": {},
   "source": [
    "Python just like other scripting language is **dynamically-typed** language which in a gist means that a variable can be of any data type during its run time. One way of knowing what data type of a given variable during run time is by using the built-in function **type()**"
   ]
  },
  {
   "cell_type": "code",
   "execution_count": null,
   "metadata": {},
   "outputs": [],
   "source": [
    "a = \"foobar\"\n",
    "print(type(a))\n",
    "a = 1.0\n",
    "print(type(a))\n",
    "a = True\n",
    "print(type(a))"
   ]
  },
  {
   "cell_type": "markdown",
   "metadata": {},
   "source": [
    "### Naming and Style Guide\n",
    "\n",
    "There are certain rules in naming variables in python:\n",
    "\n",
    "* Must be one word only, no spaces\n",
    "* Cannot begin with a number\n",
    "* Cannot use any other symbols other than **letters**, **numbers**, and **underscore (_)**\n",
    "\n",
    "**[STYLE GUIDE]** in PEP8, naming variables should follow certain style guides for readability:\n",
    "\n",
    "* Variable names should start with lowercase letter\n",
    "* Do not name variables using camelCase, use **underscores** instead (ie. user_name instead of userName).\n",
    "\n",
    "### Variable Scopes\n",
    "\n",
    "Variable scopes in python is either **global**, **local**, and **nonlocal** with the following differences:\n",
    "\n",
    "* Global variables exists outside a function\n",
    "* Local variables exists inside a function\n",
    "* NonLocal variables are the same as global variables but cannot be used "
   ]
  },
  {
   "cell_type": "code",
   "execution_count": null,
   "metadata": {},
   "outputs": [],
   "source": [
    "def print_name():\n",
    "    print(name)\n",
    "\n",
    "def greet():\n",
    "    msg = \"Hello, {} how are you?\" # variable 'msg' is on the local scope of function greet\n",
    "    print(msg.format(name))\n",
    "\n",
    "name = \"Juan Dela Cruz\" # variable 'name' is on the global scope\n",
    "print_name()\n",
    "greet()\n",
    "\n",
    "# If you try to access the local variable 'msg' there will be \n",
    "print(msg)"
   ]
  },
  {
   "cell_type": "markdown",
   "metadata": {},
   "source": [
    "It is also possible to declare global variables within a function by using the **global** keyword."
   ]
  },
  {
   "cell_type": "code",
   "execution_count": null,
   "metadata": {},
   "outputs": [],
   "source": [
    "def set_name():\n",
    "    global name\n",
    "    name = \"Juan Dela Cruz\"\n",
    "\n",
    "def print_name():\n",
    "    print(name)\n",
    "    \n",
    "def greet():\n",
    "    msg = \"Hello, {} how are you?\"\n",
    "    print(msg.format(name))\n",
    "    \n",
    "set_name() # sets a global variable 'name'\n",
    "print_name()\n",
    "greet()\n",
    "\n",
    "# Change the global variable 'name' within the main scope\n",
    "name = \"Jose Rizal\"\n",
    "greet()"
   ]
  },
  {
   "cell_type": "markdown",
   "metadata": {},
   "source": [
    "**nonlocal** variable scope is similar to **global** with the exception of it being limited only within the nested scope. This can be understood by the following example:"
   ]
  },
  {
   "cell_type": "code",
   "execution_count": null,
   "metadata": {},
   "outputs": [],
   "source": [
    "def outer():\n",
    "    msg = \"foo\"\n",
    "    def inner():\n",
    "        msg = \"bar\" # msg will be limited within the inner function\n",
    "        print(msg)\n",
    "    inner()\n",
    "    print(msg) # in this case msg that will be referenced here is from the outer function\n",
    "    \n",
    "outer()"
   ]
  },
  {
   "cell_type": "code",
   "execution_count": null,
   "metadata": {},
   "outputs": [],
   "source": [
    "def outer():\n",
    "    msg = \"foo\"\n",
    "    def inner():\n",
    "        nonlocal msg # this makes the scope of 'msg' global-like within the function\n",
    "        msg = \"bar\"\n",
    "        print(msg)\n",
    "    inner()\n",
    "    print(msg)\n",
    "\n",
    "outer()"
   ]
  },
  {
   "cell_type": "markdown",
   "metadata": {},
   "source": [
    "## Conditionals\n",
    "\n",
    "### if-statement\n",
    "\n",
    "In python, an **if-statement** follows this format:\n",
    "\n",
    "```\n",
    "if <condition>:\n",
    "    <statement>\n",
    "```\n",
    "\n",
    "If the condition evaluates to either **True**, **non-zero number** or **Non-Nonetype** value, the statement gets executed."
   ]
  },
  {
   "cell_type": "code",
   "execution_count": null,
   "metadata": {},
   "outputs": [],
   "source": [
    "# Conditions are met\n",
    "if True:\n",
    "    print(\"True\")\n",
    "if 1:\n",
    "    print(\"1\")\n",
    "if 1.0:\n",
    "    print(\"1.0\")\n",
    "if \"something\":\n",
    "    print(\"something\")\n",
    "    \n",
    "# Conditions are not met\n",
    "if False:\n",
    "    print(\"False\")\n",
    "if 0:\n",
    "    print(\"0\")\n",
    "if 0.0:\n",
    "    print(\"0.0\")\n",
    "if None:\n",
    "    print(\"None\")\n",
    "    \n",
    "# And of course if statements can also be nested\n",
    "if True:\n",
    "    print(\"outer: True\")\n",
    "    if 1:\n",
    "        print(\"inner: 1\")\n"
   ]
  },
  {
   "cell_type": "markdown",
   "metadata": {},
   "source": [
    "### else-statement\n",
    "\n",
    "The else-statement when used along with the if-statement allows you to run a statement if the condition is met negatively:\n",
    "\n",
    "```\n",
    "if <condition>:\n",
    "    <statement>\n",
    "else:\n",
    "    <statement>\n",
    "```"
   ]
  },
  {
   "cell_type": "markdown",
   "metadata": {},
   "source": [
    "### elif-statement\n",
    "\n",
    "If you need to handle multiple conditions, you may use the elif-statement. If paired with and else statement, it'll \n",
    "\n",
    "```\n",
    "if <condition1>:\n",
    "    <statement1>\n",
    "elif <condition2>:\n",
    "    <statement2>\n",
    "elif <conditionN>:\n",
    "    <statementN>\n",
    "else:\n",
    "    <statement default>\n",
    "```"
   ]
  },
  {
   "cell_type": "code",
   "execution_count": null,
   "metadata": {},
   "outputs": [],
   "source": [
    "# Examples\n",
    "age = 60\n",
    "if age < 18:\n",
    "    print(\"minor\")\n",
    "elif age >= 18 and age < 60:\n",
    "    print(\"legal\")\n",
    "else:\n",
    "    print(\"senior\")"
   ]
  },
  {
   "cell_type": "markdown",
   "metadata": {},
   "source": [
    "## Loops\n",
    "\n",
    "### For Loop\n",
    "This is the most common loop functions that follows this syntax:\n",
    "\n",
    "```\n",
    "for <variable> in <iterator>:\n",
    "    statement\n",
    "```"
   ]
  },
  {
   "cell_type": "code",
   "execution_count": null,
   "metadata": {},
   "outputs": [],
   "source": [
    "# repeat 5 times\n",
    "for i in range(5): \n",
    "    print (i)\n",
    "\n",
    "# Looping on an array\n",
    "arr = [\"one\", \"two\", \"three\", \"four\", \"five\"]\n",
    "for i in arr:\n",
    "    print (i)\n",
    "    \n",
    "# Looping on a string\n",
    "string = \"lorem ipsum dolor\"\n",
    "for i in string:\n",
    "    print (i)\n",
    "    \n",
    "# Nested Loops:\n",
    "for x in range(3):\n",
    "    for y in range(5, 10):\n",
    "        print (x, y)\n"
   ]
  },
  {
   "cell_type": "markdown",
   "metadata": {},
   "source": [
    "### While Loop\n",
    "\n",
    "While loop in python follow this syntax:\n",
    "\n",
    "```\n",
    "while <condition is True>:\n",
    "    statement\n",
    "```"
   ]
  },
  {
   "cell_type": "code",
   "execution_count": null,
   "metadata": {},
   "outputs": [],
   "source": [
    "# repeat 5 times\n",
    "i = 0\n",
    "while i < 5:\n",
    "    print (i)\n",
    "    i += 1\n",
    "\n",
    "# repeat 5 times\n",
    "i = 0\n",
    "while True: # This is an infinite loop\n",
    "    print (i)\n",
    "    i += 1\n",
    "    if (i > 5):\n",
    "        break # breaks the loop"
   ]
  },
  {
   "cell_type": "markdown",
   "metadata": {},
   "source": [
    "### break & continue\n",
    "\n",
    "You may also use **break** and **continue** keywords in python. Running a **break** within a loop stops the loop even if the condition is still True while **continue** skips the following lines of code within the loop and triggers the next loop."
   ]
  },
  {
   "cell_type": "code",
   "execution_count": null,
   "metadata": {
    "scrolled": true
   },
   "outputs": [],
   "source": [
    "# repeat 5 times\n",
    "i = 0\n",
    "while True: # This is an infinite loop\n",
    "    print (i)\n",
    "    i += 1\n",
    "    if (i > 5):\n",
    "        break # breaks the loop\n",
    "        \n",
    "# Print only the even numbers from 1 to 20\n",
    "for i in range(1, 20):\n",
    "    if (i % 2 == 0):\n",
    "        print (i)\n",
    "        continue\n",
    "        print (\"This is a skipped line of code\")\n"
   ]
  },
  {
   "cell_type": "markdown",
   "metadata": {},
   "source": [
    "## Operators\n",
    "\n",
    "### Arithmetic\n",
    "\n",
    "| Operator       | Symbol | Example        |\n",
    "| -------------- | ------ | -------------- |\n",
    "| Addition       | +      | a + b = c      |\n",
    "| Subtraction    | -      | a - b = c      |\n",
    "| Multiplication | *      | a * b = c      |\n",
    "| Division       | /      | a / b = c      |\n",
    "| Modulus        | %      | a % b = c      |\n",
    "| Exponential    | **     | a ** b = c     |\n",
    "\n",
    "You can also group expressions by parenthesis."
   ]
  },
  {
   "cell_type": "code",
   "execution_count": null,
   "metadata": {},
   "outputs": [],
   "source": [
    "print (1 + 1)\n",
    "print (1 - 1)\n",
    "print (2 * 2)\n",
    "print (2 / 2)\n",
    "print (1 % 2)\n",
    "print (2 ** 10)\n",
    "print (((10 + 25) * 3.14) / 6.022)"
   ]
  },
  {
   "cell_type": "markdown",
   "metadata": {},
   "source": [
    "### Comparison\n",
    "\n",
    "Here's the available comparison operators in python that you can use to create conditional statements that will evaluate to boolean values.\n",
    "\n",
    "| Operator   | What it does             |\n",
    "| ---------- | ------------------------ |\n",
    "| ==         | Equal to                 |\n",
    "| !=         | Not equal to             |\n",
    "| <          | Less than                |\n",
    "| >          | Greater than             |\n",
    "| <=         | Less than or equal to    |\n",
    "| >=         | Greater than or equal to |\n",
    "\n",
    "### Logical\n",
    "\n",
    "Here's the available logical operators in python. They are mainly used to control/chain conditions that will evaluate to boolen value\n",
    "\n",
    "| Operator | What it does          | Usage   |\n",
    "| -------- | --------------------- | ------- |\n",
    "| and      | True if both are true | x and y |\n",
    "| or       | True if any is true   | x or y  |\n",
    "| not      | True if only false    | not x   |"
   ]
  },
  {
   "cell_type": "code",
   "execution_count": null,
   "metadata": {},
   "outputs": [],
   "source": [
    "# Examples\n",
    "age = 60\n",
    "if age < 18:\n",
    "    print(\"minor\")\n",
    "elif age >= 18 and age < 60:\n",
    "    print(\"legal\")\n",
    "else:\n",
    "    print(\"senior\")"
   ]
  },
  {
   "cell_type": "markdown",
   "metadata": {},
   "source": [
    "### Assignment\n",
    "\n",
    "| Operator       | Symbol | Example |\n",
    "| -------------- | ------ | ------- |\n",
    "| Addition       | +=     | a += b  |\n",
    "| Subtraction    | -=     | a -= b  |\n",
    "| Multiplication | *=     | a *= b  |\n",
    "| Division       | /=     | a /= b  |\n",
    "| Modulus        | %=     | a %= b  |\n",
    "| Exponential    | **=    | a **= b |"
   ]
  },
  {
   "cell_type": "code",
   "execution_count": null,
   "metadata": {},
   "outputs": [],
   "source": [
    "a = 1\n",
    "a += 1\n",
    "print (a)"
   ]
  },
  {
   "cell_type": "markdown",
   "metadata": {},
   "source": [
    "### Membership\n",
    "\n",
    "| Operator | Symbol                                                | Example    |\n",
    "| -------- | ----------------------------------------------------- | ---------- |\n",
    "| in       | True if it finds a variable in a given sequence       | a in b     |\n",
    "| not in   | True if it didn't find a variable in a given sequence | a not in b |"
   ]
  },
  {
   "cell_type": "code",
   "execution_count": null,
   "metadata": {},
   "outputs": [],
   "source": [
    "print (1 in [1,2,3,4,5])\n",
    "print (1 not in [1,2,3,4,5])\n",
    "print (\"dog\" in \"the lazy dog jumps over a fox\")"
   ]
  },
  {
   "cell_type": "markdown",
   "metadata": {},
   "source": [
    "## Functions\n",
    "\n",
    "Functions are quite essential in most of software engineering in terms to code reduce/reuse, abstraction, and organization.\n",
    "\n",
    "Declaring functions in javascript is a simple as this:\n",
    "\n",
    "```\n",
    "def <func_name>(parameters...):\n",
    "    \"\"\"function docstring\"\"\"\n",
    "    <func_logic>\n",
    "    return\n",
    "```\n",
    "\n",
    "The **return** statement exits the function. If ever a given function doesn't have a return statement, the function with return **None**\n",
    "\n",
    "**[STYLE TIP]:** Naming functions in python should start with a letter and use a lowercase convention"
   ]
  },
  {
   "cell_type": "code",
   "execution_count": null,
   "metadata": {},
   "outputs": [],
   "source": [
    "def plus_10(val):\n",
    "    \"\"\"Increments a given value by 10\"\"\"\n",
    "    return val + 10\n",
    "\n",
    "print (plus_10(1))\n",
    "x = map(plus_10, [1,2,3,4,5])\n",
    "print (list(x))"
   ]
  },
  {
   "cell_type": "markdown",
   "metadata": {},
   "source": [
    "Functions may also have an optional parameter. are useful if you want to have a default behavior of your function that can be overriden by its users for example:"
   ]
  },
  {
   "cell_type": "code",
   "execution_count": null,
   "metadata": {},
   "outputs": [],
   "source": [
    "import re\n",
    "\n",
    "def mask_pan(val, mask=\"*\"):\n",
    "    val = re.sub(r'[0-9]{16}', mask*16, val)\n",
    "    return val\n",
    "\n",
    "print (mask_pan(\"PAN1: 1234567812345678\"))\n",
    "print (mask_pan(\"PAN2: 1234567812345678\", \"+\"))"
   ]
  },
  {
   "cell_type": "markdown",
   "metadata": {},
   "source": [
    "It is important to take note that variables passed as parameters to functions are **Passed by Reference**, meaning that all modifications made on a provided parameter reflects the varibles outside the function"
   ]
  },
  {
   "cell_type": "code",
   "execution_count": null,
   "metadata": {},
   "outputs": [],
   "source": [
    "def append_item(val, item):\n",
    "    val.append(item)\n",
    "    \n",
    "a = [\"one\", \"two\"]\n",
    "print(\"'a' before append_item function:\", a)\n",
    "append_item(a, \"three\")\n",
    "print(\"'a' after append_item function is called:\", a)\n"
   ]
  },
  {
   "cell_type": "markdown",
   "metadata": {},
   "source": [
    "## Classes\n",
    "\n",
    "### Defining\n",
    "\n",
    "In python, defining a class follows this format:\n"
   ]
  },
  {
   "cell_type": "code",
   "execution_count": null,
   "metadata": {},
   "outputs": [],
   "source": [
    "class Name:\n",
    "    paramX = \"name\" # class attributes\n",
    "    def __init__(self, param1, paramN):\n",
    "        \"\"\"\n",
    "        Constructor\n",
    "        \"\"\"\n",
    "        self.param1 = param1 # instance attributes\n",
    "        self.paramN = paramN\n",
    "    \n",
    "    def functions (self, param1, paramN):\n",
    "        \"\"\"\n",
    "        class methods\n",
    "        \"\"\""
   ]
  },
  {
   "cell_type": "markdown",
   "metadata": {},
   "source": [
    "On the provided sample above, a basic class in python is composed of the following features:\n",
    "\n",
    "* **Class Attributes** - are attributes that are set across all instances of the class. A common use case for this is if you want to store constants or default values that will be used within the class.\n",
    "* **Instance Attributes** - Instance attributes are set of attributes whic are present only on a given instance.\n",
    "* **Constructor Methods** - the constructor method __init__ is a method that is executed when the class is instantiated. Usually, this is where is initialize the instance attributes.\n",
    "* **Class Methods** - are set of methods built-in to the class.\n",
    "\n",
    "### Instantianing\n",
    "\n",
    "Instantiating a class is as easy as:\n",
    "\n",
    "```\n",
    "ClassName(paramsN)\n",
    "```\n",
    "\n",
    "see the example below:"
   ]
  },
  {
   "cell_type": "code",
   "execution_count": null,
   "metadata": {},
   "outputs": [],
   "source": [
    "class Car:\n",
    "    # Default honk sound for all instances of Car\n",
    "    honk_sound = \"...\"\n",
    "    \n",
    "    def __init__(self, manufacturer, model, year, color):\n",
    "        \"\"\"\n",
    "        self\n",
    "        \"\"\"\n",
    "        self.manufacturer = manufacturer\n",
    "        self.model = model\n",
    "        self.year = year\n",
    "        self.color = color\n",
    "        \n",
    "    def __str__(self):\n",
    "        \"\"\"\n",
    "        Overrides the string representation of your class\n",
    "        Should always return a string\n",
    "        \"\"\"\n",
    "        return '''\n",
    "        Manufacturer: {}\n",
    "        Model: {}\n",
    "        Year: {}\n",
    "        Color: {}\n",
    "        '''.format(self.manufacturer,\n",
    "                   self.model,\n",
    "                   self.year,\n",
    "                   self.color)\n",
    "    \n",
    "    def honk(self):\n",
    "        print(self.honk_sound)\n",
    "\n",
    "# Create a car instance\n",
    "car1 = Car(\"Mitsubishi\", \"Lancer EX\", 2013, \"Black\")\n",
    "print (car1)\n",
    "car1.honk()\n",
    "\n",
    "# create another car instance\n",
    "car2 = Car(\"Toyota\", \"Vios\", 2015, \"Silver\")\n",
    "print (car2)\n",
    "car2.honk()\n",
    "\n",
    "# Let's change the default honk_sound for all Car instances\n",
    "Car.honk_sound = \"beep beep\"\n",
    "car1.honk()\n",
    "car2.honk()\n",
    "\n",
    "# Let's modify from instance variables\n",
    "car1.model = \"Monterosport\"\n",
    "car1.year = 2017\n",
    "print (car1)\n",
    "\n",
    "# You are also allowed to add instance variables\n",
    "car1.fuel_type = \"gasoline\""
   ]
  },
  {
   "cell_type": "markdown",
   "metadata": {},
   "source": [
    "### Extending\n",
    "\n",
    "One key feature in object-oriented programming is the ability to extend (or subclass) an existing object in order to add/override attributes and methods. This enables you to modify an existing class without even making any changes to it. To further understand this look at the example below:"
   ]
  },
  {
   "cell_type": "code",
   "execution_count": null,
   "metadata": {},
   "outputs": [],
   "source": [
    "class Car:\n",
    "    def __init__(self, manufacturer, model, year, color):\n",
    "        \"\"\"\n",
    "        self\n",
    "        \"\"\"\n",
    "        self.manufacturer = manufacturer\n",
    "        self.model = model\n",
    "        self.year = year\n",
    "        self.color = color\n",
    "        \n",
    "    def __str__(self):\n",
    "        \"\"\"\n",
    "        Overrides the string representation of your class\n",
    "        Should always return a string\n",
    "        \"\"\"\n",
    "        return '''\n",
    "        Manufacturer: {}\n",
    "        Model: {}\n",
    "        Year: {}\n",
    "        Color: {}\n",
    "        '''.format(self.manufacturer,\n",
    "                   self.model,\n",
    "                   self.year,\n",
    "                   self.color)\n",
    "    \n",
    "    def honk(self):\n",
    "        print(\"...\")\n",
    "        \n",
    "class SUV(Car):\n",
    "    \"\"\"\n",
    "    Extends the Car class.\n",
    "    Let's override the default honk_sound\n",
    "    \"\"\"\n",
    "    honk_sound = \"honk! honk!\"\n",
    "    \n",
    "    def __init__(self, manufacturer, model, year, color, fuel_type, seats):\n",
    "        # Using super().__init__ enables you to call the constructor of the base class\n",
    "        super().__init__(manufacturer, model, year, color)\n",
    "        # If you see here, we essentially extended the constructor to add two new\n",
    "        # instance attributes fuel_type & seats\n",
    "        self.fuel_type = fuel_type\n",
    "        self.seats = seats\n",
    "        \n",
    "    def __str__(self):\n",
    "        \"\"\"\n",
    "        Overrides the string representation of the Base class Car\n",
    "        \"\"\"\n",
    "        return '''\n",
    "        Manufacturer: {}\n",
    "        Model: {}\n",
    "        Year: {}\n",
    "        Color: {}\n",
    "        Fuel Type: {}\n",
    "        Seats: {}\n",
    "        '''.format(self.manufacturer,\n",
    "                   self.model,\n",
    "                   self.year,\n",
    "                   self.color,\n",
    "                   self.fuel_type,\n",
    "                   self.seats)\n",
    "        \n",
    "    def honk(self):\n",
    "        \"\"\"\n",
    "        Overrides the honk of the Base class Car\n",
    "        \"\"\"\n",
    "        print(\"honk! honk!\")\n",
    "        \n",
    "    def orig_honk(self):\n",
    "        \"\"\"\n",
    "        A class method that exposes the original implementation of honk()\n",
    "        \"\"\"\n",
    "        super().honk()\n",
    "        \n",
    "suv = SUV(\"Mitsubishi\", \"Monterosport\", 2017, \"Black\", \"gasoline\", 7)\n",
    "suv.honk()\n",
    "suv.orig_honk()"
   ]
  },
  {
   "cell_type": "markdown",
   "metadata": {},
   "source": [
    "## Dealing with Errors"
   ]
  },
  {
   "cell_type": "markdown",
   "metadata": {},
   "source": [
    "## Organizing your code"
   ]
  },
  {
   "cell_type": "code",
   "execution_count": null,
   "metadata": {},
   "outputs": [],
   "source": []
  }
 ],
 "metadata": {
  "kernelspec": {
   "display_name": "Python 3",
   "language": "python",
   "name": "python3"
  },
  "language_info": {
   "codemirror_mode": {
    "name": "ipython",
    "version": 3
   },
   "file_extension": ".py",
   "mimetype": "text/x-python",
   "name": "python",
   "nbconvert_exporter": "python",
   "pygments_lexer": "ipython3",
   "version": "3.7.0"
  },
  "toc": {
   "base_numbering": 1,
   "nav_menu": {},
   "number_sections": true,
   "sideBar": true,
   "skip_h1_title": false,
   "title_cell": "Table of Contents",
   "title_sidebar": "Contents",
   "toc_cell": false,
   "toc_position": {
    "height": "calc(100% - 180px)",
    "left": "10px",
    "top": "150px",
    "width": "268.796875px"
   },
   "toc_section_display": true,
   "toc_window_display": true
  }
 },
 "nbformat": 4,
 "nbformat_minor": 2
}
