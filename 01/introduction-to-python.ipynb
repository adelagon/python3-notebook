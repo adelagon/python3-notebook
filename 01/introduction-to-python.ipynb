{
 "cells": [
  {
   "cell_type": "markdown",
   "metadata": {},
   "source": [
    "# Introduction to Python\n",
    "\n",
    "## Comments\n",
    "\n",
    "Comments are line of codes that the python interpreter will not execute. This is useful mostly for documenting pieces of code or debugging.\n",
    "\n",
    "### Single line comments"
   ]
  },
  {
   "cell_type": "code",
   "execution_count": null,
   "metadata": {
    "scrolled": true
   },
   "outputs": [],
   "source": [
    "a = 1\n",
    "b = 2\n",
    "# c = a + b"
   ]
  },
  {
   "cell_type": "markdown",
   "metadata": {},
   "source": [
    "### Multi line comments"
   ]
  },
  {
   "cell_type": "code",
   "execution_count": null,
   "metadata": {
    "scrolled": true
   },
   "outputs": [],
   "source": [
    "\"\"\"\n",
    "Author: Alvin Delagon\n",
    "Copyright: 2018\n",
    "Description: This is a sample multi-line comment in python\n",
    "\"\"\"\n",
    "a = 1\n",
    "b = 2\n",
    "c = a + b"
   ]
  },
  {
   "cell_type": "markdown",
   "metadata": {},
   "source": [
    "## Indentation & Scoping\n",
    "\n",
    "In python scoping is done by aligning lines of code using **spaces** or **tabs**. Usage of spaces or tabs "
   ]
  },
  {
   "cell_type": "code",
   "execution_count": null,
   "metadata": {
    "code_folding": [],
    "scrolled": true
   },
   "outputs": [],
   "source": [
    "def printHello(name):\n",
    "    print (\"Hello,\", name) # this line of code is scoped within the printHello function\n",
    "    for i in range(5):\n",
    "        print (i) # this line of code is scoped within the for loop\n",
    "    \n",
    "printHello(\"Juan\") # this line of code is scoped on the main"
   ]
  },
  {
   "cell_type": "markdown",
   "metadata": {},
   "source": [
    "**[IMPORTANT NOTE]** Usage of space vs tabs has been a long debate amongst developers. It is important to settle on the standard on the team level specially that indentation has code behavior repurcussions in python. For this training, we will be recommending the we follow the PEP8 standard of **Four (4)** spaces. For enforce this, make sure that your editors to be configured to generate 4 spaces whenever the tab button is pressed."
   ]
  },
  {
   "cell_type": "markdown",
   "metadata": {},
   "source": [
    "## Primitive Data Types\n",
    "\n",
    "### Integers\n",
    "\n",
    "Integers are whole numbers. In Python 3, there is no limit how large an integer can be. It is only limited to the amount of system memory."
   ]
  },
  {
   "cell_type": "code",
   "execution_count": null,
   "metadata": {
    "scrolled": true
   },
   "outputs": [],
   "source": [
    "a = 12345678901234567890\n",
    "print(a)\n",
    "type(a)"
   ]
  },
  {
   "cell_type": "markdown",
   "metadata": {},
   "source": [
    "### Float\n",
    "\n",
    "The float type is a number designated with a decimal point. Maximum value for float is 1.8 ⨉ 10308 anything beyond this value will result into python assigning an **inf** value which will be treated as the greater to any kind of number. The closest non-zero number is 5e-324. Anything beyond these values, python will assign **0.0**. "
   ]
  },
  {
   "cell_type": "code",
   "execution_count": null,
   "metadata": {
    "scrolled": true
   },
   "outputs": [],
   "source": [
    "a = 2.5\n",
    "print(a)\n",
    "type(a)\n",
    "\n",
    "max = 1.79e308\n",
    "print(max)\n",
    "print(max + max)\n",
    "\n",
    "nonzero = 5e-324\n",
    "print(nonzero)\n",
    "print(nonzero-nonzero)"
   ]
  },
  {
   "cell_type": "markdown",
   "metadata": {},
   "source": [
    "### Boolean\n",
    "\n",
    "Boolean represent truth values. There's only possible values **True** or **False**"
   ]
  },
  {
   "cell_type": "code",
   "execution_count": null,
   "metadata": {},
   "outputs": [],
   "source": [
    "print(type(True))\n",
    "print(type(False))"
   ]
  },
  {
   "cell_type": "markdown",
   "metadata": {},
   "source": [
    "### Strings\n",
    "\n",
    "Strings are just a sequence of characters in python and are delimited by single or double quotes. The maximum size for string depends on the platform and system memory."
   ]
  },
  {
   "cell_type": "code",
   "execution_count": null,
   "metadata": {
    "scrolled": true
   },
   "outputs": [],
   "source": [
    "a = \"foobar\"\n",
    "b = 'foobar'\n",
    "c = '''\n",
    "multi-line\n",
    "string\n",
    "'''\n",
    "\n",
    "print(a)\n",
    "print(b)\n",
    "print(c)\n",
    "type(c)"
   ]
  },
  {
   "cell_type": "markdown",
   "metadata": {},
   "source": [
    "#### String Functions\n",
    "\n",
    "Strings in python have many interesting built-in methods. Here are some examples:\n",
    "\n",
    "##### Length\n",
    "\n",
    "Getting the length of the string can be done by a built-in function **len**."
   ]
  },
  {
   "cell_type": "code",
   "execution_count": null,
   "metadata": {},
   "outputs": [],
   "source": [
    "len(\"foobar\")"
   ]
  },
  {
   "cell_type": "markdown",
   "metadata": {},
   "source": [
    "##### Splitting Strings\n",
    "\n",
    "The string object built-in function **split** can be used to split a string provided a specific character. The function returns an array of strings."
   ]
  },
  {
   "cell_type": "code",
   "execution_count": null,
   "metadata": {},
   "outputs": [],
   "source": [
    "\"The quick brown fox jumps over the lazy dog\".split(\" \")"
   ]
  },
  {
   "cell_type": "markdown",
   "metadata": {},
   "source": [
    "##### More methods\n",
    "\n",
    "**[PRO TIP]** One way for exploring the available attributes and functions of object in python such as string, you may do so by **dir()** function or looking at the python documentation https://docs.python.org/3/."
   ]
  },
  {
   "cell_type": "code",
   "execution_count": null,
   "metadata": {
    "scrolled": false
   },
   "outputs": [],
   "source": [
    "dir(\"foo\")"
   ]
  },
  {
   "cell_type": "markdown",
   "metadata": {},
   "source": [
    "In case you are using an IDE like vscode, as long as you have the Python extension installed and enabled. Pressing **dot (.)** or typing any keywords triggers the intellisense which give you a quick view of the object attributes and built-in methods:\n",
    "\n",
    "![Intellisense](../images/intellisense.png)\n",
    "\n",
    "Here's some examples of string method usage:"
   ]
  },
  {
   "cell_type": "code",
   "execution_count": null,
   "metadata": {},
   "outputs": [],
   "source": [
    "string = \"  Lorem ipsum dolor sit amet.  \"\n",
    "print(string.strip()) # Strip whitespaces on the beginning and end of string\n",
    "print(string.upper()) # Convert string to uppercase\n",
    "print(string[0:5]) # Slice the first 5 characters of a string\n",
    "\n",
    "# You may also chain methods at will\n",
    "print(string.strip().upper()[0:5])\n"
   ]
  },
  {
   "cell_type": "markdown",
   "metadata": {},
   "source": [
    "##### Regular Expressions\n",
    "\n",
    "Most of the time, you'll be asked to do a piece of code that should look for specific patterns in given string. Luckily, python already has a built-in library just for that called **re** (https://docs.python.org/3/library/re.html). We will be tackling how to use **findall**, **match**, and **search** which pretty much covers the common use cases.\n",
    "\n",
    "Say for example, you need to get all strings in a given paragraph that could be a proper credit card number and email. Which has these following attributes\n",
    "\n",
    "* Credit card numbers Should only contain numeric characters\n",
    "* Credit card numbers Should only have a length of 16 characters\n",
    "* Emails are in this format: name@domain.com\n",
    "\n",
    "In this case, we can use the **findall** function."
   ]
  },
  {
   "cell_type": "code",
   "execution_count": 11,
   "metadata": {},
   "outputs": [
    {
     "name": "stdout",
     "output_type": "stream",
     "text": [
      "['1234567812345678', '4147123456789019'] ['me@adelagon.com']\n"
     ]
    }
   ],
   "source": [
    "import re\n",
    "\n",
    "paragraph = \"\"\"\n",
    "username: alvinator\n",
    "firstname: Alvin\n",
    "lastname: Delagon\n",
    "PAN1: 1234567812345678\n",
    "PAN2: 4147123456789019\n",
    "Mobile: 09191234567\n",
    "Backup Mobile: 09171234567\n",
    "Email: me@adelagon.com\n",
    "\"\"\"\n",
    "\n",
    "# find all possible mobile numbers\n",
    "msisdns = re.findall(r'[0-9]{16}', paragraph, re.I)\n",
    "# find all emails\n",
    "emails = re.findall(r'([a-zA-Z0-9.+-]+@[a-zA-Z0-9.-]+.[a-zA-Z0-9._-]+)', paragraph, re.I)\n",
    "\n",
    "print (msisdns, emails)\n"
   ]
  },
  {
   "cell_type": "markdown",
   "metadata": {},
   "source": [
    "The Card Number match returns any substrings that matches the regular expression. The regular expression above has three parts:\n",
    "\n",
    "**[0-9]** pertains to the range of characters that match should find. In this case it matches only strings from numbers 0 to 9.\n",
    "\n",
    "**{16}** pertains to the length of consecutive matched characters. In this case it will find consecutive strings of numbers 0 to 9 that has a length of 16.\n",
    "\n",
    "**re.I** is an optional flag that pertains to case insensitive search. \n",
    "\n",
    "The subject about regular expressions is quite huge and is beyond the scope of this training. For more details make sure you take some time to visit the Regular Expression docs: https://docs.python.org/3/library/re.html"
   ]
  },
  {
   "cell_type": "markdown",
   "metadata": {},
   "source": [
    "## Variables\n",
    "\n",
    "## Conditions\n",
    "\n",
    "## Loops\n",
    "\n",
    "## Operations\n",
    "\n",
    "## Functions\n",
    "\n",
    "## Classes\n",
    "\n",
    "## Asynchronous Programming"
   ]
  }
 ],
 "metadata": {
  "kernelspec": {
   "display_name": "Python 3",
   "language": "python",
   "name": "python3"
  },
  "language_info": {
   "codemirror_mode": {
    "name": "ipython",
    "version": 3
   },
   "file_extension": ".py",
   "mimetype": "text/x-python",
   "name": "python",
   "nbconvert_exporter": "python",
   "pygments_lexer": "ipython3",
   "version": "3.7.0"
  },
  "toc": {
   "base_numbering": 1,
   "nav_menu": {},
   "number_sections": true,
   "sideBar": true,
   "skip_h1_title": false,
   "title_cell": "Table of Contents",
   "title_sidebar": "Contents",
   "toc_cell": false,
   "toc_position": {
    "height": "calc(100% - 180px)",
    "left": "10px",
    "top": "150px",
    "width": "268.796875px"
   },
   "toc_section_display": true,
   "toc_window_display": true
  }
 },
 "nbformat": 4,
 "nbformat_minor": 2
}
