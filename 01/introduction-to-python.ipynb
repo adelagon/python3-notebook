{
 "cells": [
  {
   "cell_type": "markdown",
   "metadata": {},
   "source": [
    "# Introduction to Python\n",
    "\n",
    "## Comments\n",
    "\n",
    "Comments are line of codes that the python interpreter will not execute. This is useful mostly for documenting pieces of code or debugging.\n",
    "\n",
    "### Single line comments"
   ]
  },
  {
   "cell_type": "code",
   "execution_count": null,
   "metadata": {
    "scrolled": true
   },
   "outputs": [],
   "source": [
    "a = 1\n",
    "b = 2\n",
    "# c = a + b"
   ]
  },
  {
   "cell_type": "markdown",
   "metadata": {},
   "source": [
    "### Multi line comments"
   ]
  },
  {
   "cell_type": "code",
   "execution_count": null,
   "metadata": {
    "scrolled": true
   },
   "outputs": [],
   "source": [
    "\"\"\"\n",
    "Author: Alvin Delagon\n",
    "Copyright: 2018\n",
    "Description: This is a sample multi-line comment in python\n",
    "\"\"\"\n",
    "a = 1\n",
    "b = 2\n",
    "c = a + b"
   ]
  },
  {
   "cell_type": "markdown",
   "metadata": {},
   "source": [
    "## Indentation & Scoping\n",
    "\n",
    "In python scoping is done by aligning lines of code using **spaces** or **tabs**. Usage of spaces or tabs "
   ]
  },
  {
   "cell_type": "code",
   "execution_count": null,
   "metadata": {
    "code_folding": [],
    "scrolled": true
   },
   "outputs": [],
   "source": [
    "def printHello(name):\n",
    "    print (\"Hello,\", name) # this line of code is scoped within the printHello function\n",
    "    for i in range(5):\n",
    "        print (i) # this line of code is scoped within the for loop\n",
    "    \n",
    "printHello(\"Juan\") # this line of code is scoped on the main"
   ]
  },
  {
   "cell_type": "markdown",
   "metadata": {},
   "source": [
    "**[IMPORTANT NOTE]** Usage of space vs tabs has been a long debate amongst developers. It is important to settle on the standard on the team level specially that indentation has code behavior repurcussions in python. For this training, we will be recommending the we follow the PEP8 standard of **Four (4)** spaces. For enforce this, make sure that your editors to be configured to generate 4 spaces whenever the tab button is pressed."
   ]
  },
  {
   "cell_type": "markdown",
   "metadata": {},
   "source": [
    "## Data Types\n",
    "\n",
    "### Integers\n",
    "\n",
    "Integers are whole numbers. In Python 3, there is no limit how large an integer can be. It is only limited to the amount of system memory."
   ]
  },
  {
   "cell_type": "code",
   "execution_count": null,
   "metadata": {
    "scrolled": true
   },
   "outputs": [],
   "source": [
    "a = 12345678901234567890\n",
    "print(a)\n",
    "type(a)"
   ]
  },
  {
   "cell_type": "markdown",
   "metadata": {},
   "source": [
    "### Float\n",
    "\n",
    "The float type is a number designated with a decimal point. Maximum value for float is 1.8 ⨉ 10308 anything beyond this value will result into python assigning an **inf** value which will be treated as the greater to any kind of number. The closest non-zero number is 5e-324. Anything beyond these values, python will assign **0.0**. "
   ]
  },
  {
   "cell_type": "code",
   "execution_count": null,
   "metadata": {
    "scrolled": true
   },
   "outputs": [],
   "source": [
    "a = 2.5\n",
    "print(a)\n",
    "type(a)\n",
    "\n",
    "max = 1.79e308\n",
    "print(max)\n",
    "print(max + max)\n",
    "\n",
    "nonzero = 5e-324\n",
    "print(nonzero)\n",
    "print(nonzero-nonzero)"
   ]
  },
  {
   "cell_type": "markdown",
   "metadata": {},
   "source": [
    "### Strings\n",
    "\n",
    "Strings are just a sequence of characters in python and are delimited by single or double quotes. The maximum size for string depends on the platform and system memory."
   ]
  },
  {
   "cell_type": "code",
   "execution_count": null,
   "metadata": {
    "scrolled": true
   },
   "outputs": [],
   "source": [
    "a = \"foobar\"\n",
    "b = 'foobar'\n",
    "c = '''\n",
    "multi-line\n",
    "string\n",
    "'''\n",
    "\n",
    "print(a)\n",
    "print(b)\n",
    "print(c)\n",
    "type(c)"
   ]
  },
  {
   "cell_type": "markdown",
   "metadata": {},
   "source": [
    "#### String Functions\n",
    "\n",
    "Strings in python have many interesting built-in methods. One way for exploring it is by using the **dir()** function or looking at the python documentation https://docs.python.org/3/."
   ]
  },
  {
   "cell_type": "code",
   "execution_count": null,
   "metadata": {
    "scrolled": false
   },
   "outputs": [],
   "source": [
    "dir(\"foo\")"
   ]
  },
  {
   "cell_type": "code",
   "execution_count": null,
   "metadata": {
    "scrolled": true
   },
   "outputs": [],
   "source": []
  },
  {
   "cell_type": "markdown",
   "metadata": {},
   "source": [
    "## Variables\n",
    "\n",
    "## Conditions\n",
    "\n",
    "## Loops\n",
    "\n",
    "## Operations\n",
    "\n",
    "## Functions\n",
    "\n",
    "## Classes\n",
    "\n",
    "## Asynchronous Programming"
   ]
  }
 ],
 "metadata": {
  "kernelspec": {
   "display_name": "Python 3",
   "language": "python",
   "name": "python3"
  },
  "language_info": {
   "codemirror_mode": {
    "name": "ipython",
    "version": 3
   },
   "file_extension": ".py",
   "mimetype": "text/x-python",
   "name": "python",
   "nbconvert_exporter": "python",
   "pygments_lexer": "ipython3",
   "version": "3.7.0"
  },
  "toc": {
   "base_numbering": 1,
   "nav_menu": {},
   "number_sections": true,
   "sideBar": true,
   "skip_h1_title": false,
   "title_cell": "Table of Contents",
   "title_sidebar": "Contents",
   "toc_cell": false,
   "toc_position": {},
   "toc_section_display": true,
   "toc_window_display": true
  }
 },
 "nbformat": 4,
 "nbformat_minor": 2
}
